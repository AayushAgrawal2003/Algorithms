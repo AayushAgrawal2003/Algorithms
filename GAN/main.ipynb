{
 "cells": [
  {
   "cell_type": "code",
   "execution_count": 5,
   "id": "9ac8ad00",
   "metadata": {},
   "outputs": [],
   "source": [
    "import torch\n",
    "import torch.optim as optim\n",
    "import torch.nn as nn\n",
    "from torch.utils import data\n",
    "import torchvision\n",
    "\n",
    "import matplotlib.pyplot as plt\n",
    "import numpy as np"
   ]
  },
  {
   "cell_type": "code",
   "execution_count": 7,
   "id": "844693f2",
   "metadata": {},
   "outputs": [],
   "source": [
    "learning_rate = 2e-4\n",
    "noise_dim = 32\n",
    "image_dim = 28 * 28 * 1 \n",
    "batch_size = 32\n",
    "num_epochs = 25\n"
   ]
  },
  {
   "cell_type": "code",
   "execution_count": 8,
   "id": "17539f01",
   "metadata": {},
   "outputs": [],
   "source": [
    "class Generator(nn.Module): #We are inheriting a class nn.Module\n",
    "    def __init__(self, noise_dim, image_dim):\n",
    "        super(Generator, self).__init__\n",
    "        self.linear1 = nn.Linear(noise_dim, 128)\n",
    "        self.relu = nn.LeakyRELU(0.01)\n",
    "        self.linear2 = nn.Linear(128, image_dim)\n",
    "        self.tanh = nn.Tanh()\n",
    "        \n",
    "    def forward(self, x):\n",
    "        out = self.linear1(x)\n",
    "        out = self.relu(out)\n",
    "        out = self.linear2(out)\n",
    "        out = self.tanh(out)\n",
    "        return out\n",
    "    "
   ]
  },
  {
   "cell_type": "code",
   "execution_count": null,
   "id": "23b2a26f",
   "metadata": {},
   "outputs": [],
   "source": [
    "def Discriminator(nn.Module):\n",
    "    def __init__(self, in_image):\n",
    "        super(Discriminator,self).__init__()\n",
    "        self.linear1 = nn.Linear(in_image,64)\n",
    "        self.relu = nn.LeakyRELU(0.01)\n",
    "        self.linear2 = nn.Linear(64,1)\n",
    "        self.sigmoid = nn.Sigmoid()"
   ]
  }
 ],
 "metadata": {
  "kernelspec": {
   "display_name": "Python 3.9 (tensorflow)",
   "language": "python",
   "name": "tensorflow"
  },
  "language_info": {
   "codemirror_mode": {
    "name": "ipython",
    "version": 3
   },
   "file_extension": ".py",
   "mimetype": "text/x-python",
   "name": "python",
   "nbconvert_exporter": "python",
   "pygments_lexer": "ipython3",
   "version": "3.9.9"
  }
 },
 "nbformat": 4,
 "nbformat_minor": 5
}
